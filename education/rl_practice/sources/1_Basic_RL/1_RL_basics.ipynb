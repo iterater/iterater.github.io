{
 "cells": [
  {
   "cell_type": "markdown",
   "metadata": {
    "id": "ypOCKwiQglVk"
   },
   "source": [
    "# Reinforcement Learning Basics with CartPole Model\n",
    "\n",
    "## Problem Definition\n",
    "\n",
    "CartPole model is a simple example of control problem in a simplified physical environment. The goal is to balance a pole with a mass $m$ and length $l$ on a moving cart by applying discrete forces to the cart in gorisontal direction. The environment is characterized by cart position $x$, cart velocity $x'$, pole angle $\\theta$, and pole angular velocity $\\theta'$. The action space $A$ include discrete horisontal forces applied to the cart in negative ($a=0$) or positive ($a=1$) direction.\n",
    "\n",
    "<!-- ```{figure} 1_RL_basics_Fig1_CartPole.png\n",
    "---\n",
    "width: 300px\n",
    "name: basic-cartpole\n",
    "---\n",
    "Basic CartPole model\n",
    "```-->\n",
    "\n",
    "```{image} 1_RL_basics_Fig1_CartPole.png\n",
    ":width: 300px\n",
    ":name: basic-cartpole\n",
    "```\n",
    "\n",
    "<!-- ![Figure 1](1_RL_basics_Fig1_CartPole.png) -->\n",
    "<!-- <img src=\"1_RL_basics_Fig1_CartPole.png\" width=\"300px\"/> -->\n",
    "\n",
    "The model is implemented in Gymnasium library {cite}`CartPole` with basics physics enabling simulation of various control mechanisms. Here the observation space is defined by a vector $(x,x',\\theta,\\theta')$, action space is $A=\\{0,1\\}$. The agent receives +1 for every timestep the pole remains upright. The episode ends if: a) the pole tilts more than 15 degrees from vertical; b) the cart moves more than 2.4 units from the center; c) the episode length exceeds 500 steps.\n",
    "\n",
    "Within this practical task we'll implement and evaluate a basic RL agent to control the cart in an optimal way using Gymnasium environment with REINFORCE algorithm {cite}`Williams1992`.\n",
    "\n",
    "<!-- ### References\n",
    "1. [Cart Pole in Gymnasium Documentation](https://gymnasium.farama.org/environments/classic_control/cart_pole/)\n",
    "2. [R. J. Williams, Simple statistical gradient-following algorithms for connectionist reinforcement learning, Machine Learning, vol. 8, no. 23, 1992.](https://link.springer.com/content/pdf/10.1007/BF00992696.pdf) -->\n"
   ]
  },
  {
   "cell_type": "markdown",
   "metadata": {
    "id": "EzTy6imWwwyC"
   },
   "source": [
    "## Implementation\n",
    "\n",
    "### Basic initialization\n",
    "\n",
    "First, we import necessary libraries neededd for our experimental setting and create an instance of CartPole environment from Gymnasium. We see the action space is discrete with two option (positive and negative forces). The opservation space is continuous 4-dimension space."
   ]
  },
  {
   "cell_type": "code",
   "execution_count": 2,
   "metadata": {
    "executionInfo": {
     "elapsed": 4616,
     "status": "ok",
     "timestamp": 1743973098463,
     "user": {
      "displayName": "Sergey Kovalchuk",
      "userId": "09018451249045421116"
     },
     "user_tz": -180
    },
    "id": "ziiFiyQpggiP"
   },
   "outputs": [],
   "source": [
    "import numpy as np\n",
    "import tensorflow as tf\n",
    "from tensorflow import keras\n",
    "import matplotlib.pyplot as plt\n",
    "import gymnasium as gym\n",
    "from tqdm.notebook import tqdm"
   ]
  },
  {
   "cell_type": "code",
   "execution_count": 3,
   "metadata": {
    "colab": {
     "base_uri": "https://localhost:8080/"
    },
    "executionInfo": {
     "elapsed": 18,
     "status": "ok",
     "timestamp": 1743973099614,
     "user": {
      "displayName": "Sergey Kovalchuk",
      "userId": "09018451249045421116"
     },
     "user_tz": -180
    },
    "id": "8he-Y5yFw91p",
    "outputId": "4c0b3009-e208-4ac2-df43-66d4043e150f"
   },
   "outputs": [
    {
     "data": {
      "text/plain": [
       "(Discrete(2),\n",
       " Box([-4.8000002e+00 -3.4028235e+38 -4.1887903e-01 -3.4028235e+38], [4.8000002e+00 3.4028235e+38 4.1887903e-01 3.4028235e+38], (4,), float32))"
      ]
     },
     "execution_count": 3,
     "metadata": {},
     "output_type": "execute_result"
    }
   ],
   "source": [
    "env = gym.make(\"CartPole-v1\", render_mode=\"rgb_array\")\n",
    "env.action_space, env.observation_space"
   ]
  },
  {
   "cell_type": "markdown",
   "metadata": {
    "id": "G-8Gv9BHxqHe"
   },
   "source": [
    "### Simple run\n",
    "\n",
    "To run a basic experiment with CartPole we apply sequential steps with randome action selected with `sample()` method of action space in the environment."
   ]
  },
  {
   "cell_type": "code",
   "execution_count": 4,
   "metadata": {
    "colab": {
     "base_uri": "https://localhost:8080/"
    },
    "executionInfo": {
     "elapsed": 274,
     "status": "ok",
     "timestamp": 1743973103344,
     "user": {
      "displayName": "Sergey Kovalchuk",
      "userId": "09018451249045421116"
     },
     "user_tz": -180
    },
    "id": "pWWzNYnuxHrI",
    "outputId": "a47290d1-1699-4c6f-dc3d-3b456f4e274b"
   },
   "outputs": [
    {
     "name": "stdout",
     "output_type": "stream",
     "text": [
      "[-0.02803049  0.21940807 -0.01105825 -0.29289705] -> 1.0\n",
      "[-0.02364233  0.02444551 -0.01691619 -0.00372216] -> 1.0\n",
      "[-0.02315342  0.21980593 -0.01699063 -0.30169398] -> 1.0\n",
      "[-0.0187573   0.41516587 -0.02302451 -0.5996866 ] -> 1.0\n",
      "[-0.01045398  0.22037348 -0.03501824 -0.31434408] -> 1.0\n",
      "[-0.00604651  0.02576741 -0.04130512 -0.0329072 ] -> 1.0\n",
      "[-0.00553116 -0.16873862 -0.04196327  0.24646273] -> 1.0\n",
      "[-0.00890593  0.02695676 -0.03703402 -0.05915549] -> 1.0\n",
      "[-0.0083668  -0.16761516 -0.03821712  0.22161676] -> 1.0\n",
      "[-0.0117191  -0.3621706  -0.03378479  0.5020037 ] -> 1.0\n",
      "[-0.01896252 -0.16658913 -0.02374471  0.1988681 ] -> 1.0\n",
      "[-0.0222943   0.02886425 -0.01976735 -0.10120961] -> 1.0\n",
      "[-0.02171701 -0.16596891 -0.02179154  0.18517181] -> 1.0\n",
      "[-0.02503639  0.02945794 -0.01808811 -0.11430509] -> 1.0\n",
      "[-0.02444723  0.22483434 -0.02037421 -0.41263935] -> 1.0\n",
      "[-0.01995054  0.4202391  -0.028627   -0.7116752 ] -> 1.0\n",
      "[-0.01154576  0.6157455  -0.0428605  -1.0132298 ] -> 1.0\n",
      "[ 7.6914678e-04  8.1141216e-01 -6.3125096e-02 -1.3190575e+00] -> 1.0\n",
      "[ 0.01699739  0.6171426  -0.08950625 -1.04678   ] -> 1.0\n",
      "[ 0.02934024  0.8133311  -0.11044185 -1.3661644 ] -> 1.0\n",
      "[ 0.04560687  1.0096489  -0.13776514 -1.691251  ] -> 1.0\n",
      "[ 0.06579985  0.8163613  -0.17159016 -1.4444416 ] -> 1.0\n",
      "[ 0.08212707  0.62371564 -0.20047899 -1.209917  ] -> 1.0\n",
      "[ 0.09460139  0.8207801  -0.22467732 -1.55814   ] -> 1.0\n",
      "Total reward: 24.0\n"
     ]
    }
   ],
   "source": [
    "env.reset()\n",
    "\n",
    "term = False\n",
    "trunc = False\n",
    "total_reward = 0\n",
    "while not (term or trunc):\n",
    "   env.render()\n",
    "   obs, rew, term, trunc, info = env.step(env.action_space.sample())\n",
    "   total_reward += rew\n",
    "   print(f\"{obs} -> {rew}\")\n",
    "print(f\"Total reward: {total_reward}\")\n",
    "\n",
    "env.close()"
   ]
  },
  {
   "cell_type": "markdown",
   "metadata": {
    "id": "-VVjKLyxzD1a"
   },
   "source": [
    "## Experiments\n",
    "\n",
    "### Basic Q-learning\n",
    "\n",
    "We implement a basic learning procedure with a neural network with one fullly connected layer (128 neurons) with observation space as an input and action space as an output."
   ]
  },
  {
   "cell_type": "code",
   "execution_count": 6,
   "metadata": {
    "colab": {
     "base_uri": "https://localhost:8080/",
     "height": 204
    },
    "executionInfo": {
     "elapsed": 8,
     "status": "ok",
     "timestamp": 1743973477869,
     "user": {
      "displayName": "Sergey Kovalchuk",
      "userId": "09018451249045421116"
     },
     "user_tz": -180
    },
    "id": "Y0D_F7WFzADM",
    "outputId": "17b1d28c-bb07-4990-b446-cd822899897e"
   },
   "outputs": [
    {
     "name": "stdout",
     "output_type": "stream",
     "text": [
      "Model: \"sequential_1\"\n",
      "_________________________________________________________________\n",
      " Layer (type)                Output Shape              Param #   \n",
      "=================================================================\n",
      " dense_2 (Dense)             (None, 128)               640       \n",
      "                                                                 \n",
      " dense_3 (Dense)             (None, 2)                 258       \n",
      "                                                                 \n",
      "=================================================================\n",
      "Total params: 898\n",
      "Trainable params: 898\n",
      "Non-trainable params: 0\n",
      "_________________________________________________________________\n"
     ]
    }
   ],
   "source": [
    "num_inputs = 4\n",
    "num_actions = 2\n",
    "\n",
    "model = keras.Sequential([\n",
    "    keras.Input(shape=(num_inputs,)),\n",
    "    keras.layers.Dense(128, activation=\"relu\"),\n",
    "    keras.layers.Dense(num_actions, activation=\"softmax\")\n",
    "])\n",
    "\n",
    "model.compile(loss='categorical_crossentropy', optimizer=keras.optimizers.Adam(learning_rate=0.01))\n",
    "\n",
    "model.summary()"
   ]
  },
  {
   "cell_type": "markdown",
   "metadata": {
    "id": "mLiauRlPpZ6s"
   },
   "source": [
    "Next, we need implementation of episode simulation with sequential application of the model. We define a function that run an episode and collect a trace as a history of states, actions, probabilities returned by a model, and obtained rewards.\n",
    "\n",
    "Additionally, we define a discounted reward function which weight a reward vector within a trace so that earlier rewards will be discounted by a coefficient `gamma`."
   ]
  },
  {
   "cell_type": "code",
   "execution_count": 7,
   "metadata": {
    "executionInfo": {
     "elapsed": 3,
     "status": "ok",
     "timestamp": 1743973111155,
     "user": {
      "displayName": "Sergey Kovalchuk",
      "userId": "09018451249045421116"
     },
     "user_tz": -180
    },
    "id": "8ZUCumXKx-3Q"
   },
   "outputs": [],
   "source": [
    "def run_episode(max_steps_per_episode = 1000):\n",
    "    states, actions, probs, rewards = [],[],[],[]\n",
    "    state = env.reset()[0]\n",
    "    for _ in range(max_steps_per_episode):\n",
    "        action_probs = model(np.expand_dims(state, 0))[0]\n",
    "        action = np.random.choice(num_actions, p=np.squeeze(action_probs))\n",
    "        nstate, reward, term, trunc, info = env.step(action)\n",
    "        if term or trunc:\n",
    "            break\n",
    "        states.append(state)\n",
    "        actions.append(action)\n",
    "        probs.append(action_probs)\n",
    "        rewards.append(reward)\n",
    "        state = nstate\n",
    "    return np.vstack(states), np.vstack(actions), np.vstack(probs), np.vstack(rewards)\n",
    "\n",
    "eps = 0.0001\n",
    "\n",
    "def discounted_rewards(rewards, gamma=0.99, normalize=True):\n",
    "    ret = []\n",
    "    s = 0\n",
    "    for r in rewards[::-1]:\n",
    "        s = r + gamma * s\n",
    "        ret.insert(0, s)\n",
    "    if normalize:\n",
    "        ret = (ret-np.mean(ret))/(np.std(ret)+eps)\n",
    "    return ret"
   ]
  },
  {
   "cell_type": "code",
   "execution_count": 8,
   "metadata": {
    "colab": {
     "base_uri": "https://localhost:8080/"
    },
    "executionInfo": {
     "elapsed": 105,
     "status": "ok",
     "timestamp": 1743973111639,
     "user": {
      "displayName": "Sergey Kovalchuk",
      "userId": "09018451249045421116"
     },
     "user_tz": -180
    },
    "id": "A_ODqBjCqyyU",
    "outputId": "5585fe78-c7ba-45df-8020-4ebe910d2e0d"
   },
   "outputs": [
    {
     "name": "stdout",
     "output_type": "stream",
     "text": [
      "Total reward: 11.0\n",
      "Total discounted reward: -6.661338147750939e-16\n"
     ]
    }
   ],
   "source": [
    "s,a,p,r = run_episode()\n",
    "print(f\"Total reward: {np.sum(r)}\")\n",
    "print(f\"Total discounted reward: {np.sum(discounted_rewards(r))}\")"
   ]
  },
  {
   "cell_type": "markdown",
   "metadata": {
    "id": "2xhSyF5NsxlB"
   },
   "source": [
    "### Simple policy gradient learning\n",
    "\n",
    "Here we implement a basic policy gradient method with REINFORCE algorithm. We run the CartPole model episode `n_episodes` times (epochs) and collect trace information. After each run, the following steps are repeated:\n",
    "1. Selected actions are converted into one-hot encoding `one_hot_actions`. E.g. vector of actions `[0,1,0]` will be converted into `[[1,0], [0,1], [1,0]`.\n",
    "2. We calculate the policy `gradients` as difference between action probabilities and encoded actions being taken. This gives the direction to adjust the policy to increase the likelihood of good actions.\n",
    "3. Discounted rewards `dr` are calculated with the function defined above.\n",
    "4. We multiplies `gradients` by discounted rewards `dr` to reinforce actions that led to higher rewards. Actions with higher rewards get larger updates.\n",
    "5. To calculate `target` we scales the gradient by the learning rate `alpha` and add action probabilities `probs` to ensure the update is incremental (avoids drastic policy changes).\n",
    "6. The `target` is used to train the model in association with `states` using `train_on_batch()` method.\n",
    "\n",
    "We collect training history with obtained reward. Also, the reward is shown once per each 100 epochs."
   ]
  },
  {
   "cell_type": "code",
   "execution_count": 9,
   "metadata": {
    "colab": {
     "base_uri": "https://localhost:8080/",
     "height": 153,
     "referenced_widgets": [
      "7456bc32fb2146a68dbf99952b89dec3",
      "3301c1e714c04b7eaaca775893b57e00",
      "5c24047fc75746ae802165f6a64d4437",
      "417874c0bbdc48309e0cc5bb9ea0d0cc",
      "aa21fbb761134c398367b872efbf6967",
      "1f183e213d6c4dd8a51c0ff8bc2411dd",
      "afe4bfc5be09468a8f1c51bb7aa08043",
      "8ff73e96935847ea95af9239aebdb470",
      "3553b13618034b9289a84f04142b499d",
      "3ae8d99c15334643936eb330f7f34326",
      "d370b6675b034a3e99c057516c054362"
     ]
    },
    "executionInfo": {
     "elapsed": 388846,
     "status": "ok",
     "timestamp": 1743973873667,
     "user": {
      "displayName": "Sergey Kovalchuk",
      "userId": "09018451249045421116"
     },
     "user_tz": -180
    },
    "id": "SzMJxpi_tipE",
    "outputId": "06cbad96-490d-4957-d96a-a71d95d89967"
   },
   "outputs": [
    {
     "data": {
      "application/vnd.jupyter.widget-view+json": {
       "model_id": "05415c752ddb4d3bbddfe7010bc11353",
       "version_major": 2,
       "version_minor": 0
      },
      "text/plain": [
       "  0%|          | 0/300 [00:00<?, ?it/s]"
      ]
     },
     "metadata": {},
     "output_type": "display_data"
    },
    {
     "name": "stdout",
     "output_type": "stream",
     "text": [
      "E:   0 R: 24.0\n",
      "E:  50 R: 95.0\n",
      "E: 100 R: 132.0\n",
      "E: 150 R: 159.0\n",
      "E: 200 R: 499.0\n",
      "E: 250 R: 499.0\n"
     ]
    }
   ],
   "source": [
    "alpha = 5e-4\n",
    "n_episodes = 300\n",
    "\n",
    "history = []\n",
    "for epoch in tqdm(range(n_episodes)):\n",
    "    states, actions, probs, rewards = run_episode()\n",
    "    one_hot_actions = np.eye(2)[actions.T][0]\n",
    "    gradients = one_hot_actions-probs\n",
    "    dr = discounted_rewards(rewards)\n",
    "    gradients *= dr\n",
    "    target = alpha*np.vstack([gradients])+probs\n",
    "    model.train_on_batch(states,target)\n",
    "    history.append(np.sum(rewards))\n",
    "    if epoch%50==0:\n",
    "        print(f'E: {epoch:3} R: {np.sum(rewards)}')"
   ]
  },
  {
   "cell_type": "code",
   "execution_count": 10,
   "metadata": {
    "colab": {
     "base_uri": "https://localhost:8080/",
     "height": 466
    },
    "executionInfo": {
     "elapsed": 183,
     "status": "ok",
     "timestamp": 1743973882940,
     "user": {
      "displayName": "Sergey Kovalchuk",
      "userId": "09018451249045421116"
     },
     "user_tz": -180
    },
    "id": "bnJG5Ey5x5xJ",
    "outputId": "ff1eae9a-efb7-4c4a-81cd-81eac8d7261c"
   },
   "outputs": [
    {
     "data": {
      "text/plain": [
       "Text(0, 0.5, 'Accumulated reward')"
      ]
     },
     "execution_count": 10,
     "metadata": {},
     "output_type": "execute_result"
    },
    {
     "data": {
      "image/png": "[encoded data removed]",
      "text/plain": [
       "<Figure size 640x480 with 1 Axes>"
      ]
     },
     "metadata": {},
     "output_type": "display_data"
    }
   ],
   "source": [
    "plt.plot(history)\n",
    "plt.xlabel('Epoch')\n",
    "plt.ylabel('Accumulated reward')"
   ]
  },
  {
   "cell_type": "markdown",
   "metadata": {
    "id": "PfIPVYyWyvTF"
   },
   "source": [
    "### Adding observation noise\n",
    "\n",
    "For experimental analysis of learning process with noise environment, we can modify `run_episode` with additive noise component to see how it will affect RL performance."
   ]
  },
  {
   "cell_type": "code",
   "execution_count": 11,
   "metadata": {
    "colab": {
     "base_uri": "https://localhost:8080/",
     "height": 204
    },
    "executionInfo": {
     "elapsed": 60,
     "status": "ok",
     "timestamp": 1743973888685,
     "user": {
      "displayName": "Sergey Kovalchuk",
      "userId": "09018451249045421116"
     },
     "user_tz": -180
    },
    "id": "0cpFWD4QzvCH",
    "outputId": "24023fc9-36a3-453c-8fac-29aae27166d8"
   },
   "outputs": [
    {
     "name": "stdout",
     "output_type": "stream",
     "text": [
      "Model: \"sequential_2\"\n",
      "_________________________________________________________________\n",
      " Layer (type)                Output Shape              Param #   \n",
      "=================================================================\n",
      " dense_4 (Dense)             (None, 128)               640       \n",
      "                                                                 \n",
      " dense_5 (Dense)             (None, 2)                 258       \n",
      "                                                                 \n",
      "=================================================================\n",
      "Total params: 898\n",
      "Trainable params: 898\n",
      "Non-trainable params: 0\n",
      "_________________________________________________________________\n"
     ]
    }
   ],
   "source": [
    "model_with_noise = keras.Sequential([\n",
    "    keras.Input(shape=(num_inputs,)),\n",
    "    keras.layers.Dense(128, activation=\"relu\"),\n",
    "    keras.layers.Dense(num_actions, activation=\"softmax\")\n",
    "])\n",
    "\n",
    "model_with_noise.compile(loss='categorical_crossentropy', optimizer=keras.optimizers.Adam(learning_rate=0.01))\n",
    "\n",
    "model_with_noise.summary()"
   ]
  },
  {
   "cell_type": "code",
   "execution_count": 12,
   "metadata": {
    "executionInfo": {
     "elapsed": 17,
     "status": "ok",
     "timestamp": 1743973893805,
     "user": {
      "displayName": "Sergey Kovalchuk",
      "userId": "09018451249045421116"
     },
     "user_tz": -180
    },
    "id": "RR0P98cGx9BS"
   },
   "outputs": [],
   "source": [
    "NOISE_STD = 1e-1\n",
    "\n",
    "def run_episode_with_noise(max_steps_per_episode = 10000):\n",
    "    states, actions, probs, rewards = [],[],[],[]\n",
    "    state = env.reset()[0]\n",
    "    for _ in range(max_steps_per_episode):\n",
    "        noise_component = np.random.normal(0, NOISE_STD, len(state)) # DEFINING NOIZE COMPONENT\n",
    "        state_observed = state + noise_component # ADDING NOIZE COMPONENT\n",
    "        action_probs = model_with_noise(np.expand_dims(state_observed, 0))[0]\n",
    "        action = np.random.choice(num_actions, p=np.squeeze(action_probs))\n",
    "        nstate, reward, term, trunc, info = env.step(action)\n",
    "        if term or trunc:\n",
    "            break\n",
    "        states.append(state_observed)\n",
    "        actions.append(action)\n",
    "        probs.append(action_probs)\n",
    "        rewards.append(reward)\n",
    "        state = nstate\n",
    "    return np.vstack(states), np.vstack(actions), np.vstack(probs), np.vstack(rewards)"
   ]
  },
  {
   "cell_type": "code",
   "execution_count": 13,
   "metadata": {
    "colab": {
     "base_uri": "https://localhost:8080/",
     "height": 153,
     "referenced_widgets": [
      "dc755355c81a453aa3dd9c2a72f9ea64",
      "7a0be5b41b8b4262b642445cddb5ab8c",
      "88f29af52ac94b1a940a90cfdba679a4",
      "8cf58a55de4f441c8f6d6795dc7477f6",
      "2e9a466f00584908878cb546a2dae9d3",
      "0ca44722b97843d8b103ff1f55110699",
      "e7a1758de03e458299391c59b5d9b189",
      "1deb31df028942d9b2fac4e03461d71d",
      "2dde2ecb99764e4b945303cf2ae4f0cf",
      "6eb6c6bcadf94f699b8f3d1f8d35a4fc",
      "061d10ce1161413ebe83b9189a1bd87d"
     ]
    },
    "executionInfo": {
     "elapsed": 245269,
     "status": "ok",
     "timestamp": 1743974142840,
     "user": {
      "displayName": "Sergey Kovalchuk",
      "userId": "09018451249045421116"
     },
     "user_tz": -180
    },
    "id": "h0o8WeRpznJ-",
    "outputId": "f41812a5-d677-4910-d1cd-92a64df5bf60"
   },
   "outputs": [
    {
     "data": {
      "application/vnd.jupyter.widget-view+json": {
       "model_id": "98a6459342254522b14e88efc7531f82",
       "version_major": 2,
       "version_minor": 0
      },
      "text/plain": [
       "  0%|          | 0/300 [00:00<?, ?it/s]"
      ]
     },
     "metadata": {},
     "output_type": "display_data"
    },
    {
     "name": "stdout",
     "output_type": "stream",
     "text": [
      "E:   0 R: 8.0\n",
      "E:  50 R: 170.0\n",
      "E: 100 R: 499.0\n",
      "E: 150 R: 168.0\n",
      "E: 200 R: 142.0\n",
      "E: 250 R: 499.0\n"
     ]
    }
   ],
   "source": [
    "history_with_noise = []\n",
    "for epoch in tqdm(range(n_episodes)):\n",
    "    states, actions, probs, rewards = run_episode_with_noise()\n",
    "    one_hot_actions = np.eye(2)[actions.T][0]\n",
    "    gradients = one_hot_actions-probs\n",
    "    dr = discounted_rewards(rewards)\n",
    "    gradients *= dr\n",
    "    target = alpha*np.vstack([gradients])+probs\n",
    "    model_with_noise.train_on_batch(states,target)\n",
    "    history_with_noise.append(np.sum(rewards))\n",
    "    if epoch%50==0:\n",
    "        print(f'E: {epoch:3} R: {np.sum(rewards)}')"
   ]
  },
  {
   "cell_type": "code",
   "execution_count": 14,
   "metadata": {
    "colab": {
     "base_uri": "https://localhost:8080/",
     "height": 466
    },
    "executionInfo": {
     "elapsed": 200,
     "status": "ok",
     "timestamp": 1743974159104,
     "user": {
      "displayName": "Sergey Kovalchuk",
      "userId": "09018451249045421116"
     },
     "user_tz": -180
    },
    "id": "TmZ1Qe9K0O5P",
    "outputId": "ecfef62e-f547-43cb-abc8-60491eec2583"
   },
   "outputs": [
    {
     "data": {
      "text/plain": [
       "Text(0, 0.5, 'Accumulated reward')"
      ]
     },
     "execution_count": 14,
     "metadata": {},
     "output_type": "execute_result"
    },
    {
     "data": {
      "image/png": "[encoded data removed]",
      "text/plain": [
       "<Figure size 640x480 with 1 Axes>"
      ]
     },
     "metadata": {},
     "output_type": "display_data"
    }
   ],
   "source": [
    "plt.plot(history_with_noise)\n",
    "plt.xlabel('Epoch')\n",
    "plt.ylabel('Accumulated reward')"
   ]
  },
  {
   "cell_type": "markdown",
   "metadata": {
    "id": "NnASAuom13Q3"
   },
   "source": [
    "## Conclusion\n",
    "\n",
    "It can be observed that the basic implementation of the algorithm shows relatively \"unstable\" behavior deviating from reaching maximal reward (here, 500). The behavior become worthier when adding noise component to state observation. However, policy close to optimal is reachable even in the observed limited conditions."
   ]
  }
 ],
 "metadata": {
  "colab": {
   "authorship_tag": "ABX9TyNhMPP2UHaYfz/hlpwkjmkC",
   "provenance": []
  },
  "kernelspec": {
   "display_name": "tf_env",
   "language": "python",
   "name": "python3"
  },
  "language_info": {
   "codemirror_mode": {
    "name": "ipython",
    "version": 3
   },
   "file_extension": ".py",
   "mimetype": "text/x-python",
   "name": "python",
   "nbconvert_exporter": "python",
   "pygments_lexer": "ipython3",
   "version": "3.10.9"
  },
  "widgets": {
   "application/vnd.jupyter.widget-state+json": {
    "061d10ce1161413ebe83b9189a1bd87d": {
     "model_module": "@jupyter-widgets/controls",
     "model_module_version": "1.5.0",
     "model_name": "DescriptionStyleModel",
     "state": {
      "_model_module": "@jupyter-widgets/controls",
      "_model_module_version": "1.5.0",
      "_model_name": "DescriptionStyleModel",
      "_view_count": null,
      "_view_module": "@jupyter-widgets/base",
      "_view_module_version": "1.2.0",
      "_view_name": "StyleView",
      "description_width": ""
     }
    },
    "0ca44722b97843d8b103ff1f55110699": {
     "model_module": "@jupyter-widgets/base",
     "model_module_version": "1.2.0",
     "model_name": "LayoutModel",
     "state": {
      "_model_module": "@jupyter-widgets/base",
      "_model_module_version": "1.2.0",
      "_model_name": "LayoutModel",
      "_view_count": null,
      "_view_module": "@jupyter-widgets/base",
      "_view_module_version": "1.2.0",
      "_view_name": "LayoutView",
      "align_content": null,
      "align_items": null,
      "align_self": null,
      "border": null,
      "bottom": null,
      "display": null,
      "flex": null,
      "flex_flow": null,
      "grid_area": null,
      "grid_auto_columns": null,
      "grid_auto_flow": null,
      "grid_auto_rows": null,
      "grid_column": null,
      "grid_gap": null,
      "grid_row": null,
      "grid_template_areas": null,
      "grid_template_columns": null,
      "grid_template_rows": null,
      "height": null,
      "justify_content": null,
      "justify_items": null,
      "left": null,
      "margin": null,
      "max_height": null,
      "max_width": null,
      "min_height": null,
      "min_width": null,
      "object_fit": null,
      "object_position": null,
      "order": null,
      "overflow": null,
      "overflow_x": null,
      "overflow_y": null,
      "padding": null,
      "right": null,
      "top": null,
      "visibility": null,
      "width": null
     }
    },
    "1deb31df028942d9b2fac4e03461d71d": {
     "model_module": "@jupyter-widgets/base",
     "model_module_version": "1.2.0",
     "model_name": "LayoutModel",
     "state": {
      "_model_module": "@jupyter-widgets/base",
      "_model_module_version": "1.2.0",
      "_model_name": "LayoutModel",
      "_view_count": null,
      "_view_module": "@jupyter-widgets/base",
      "_view_module_version": "1.2.0",
      "_view_name": "LayoutView",
      "align_content": null,
      "align_items": null,
      "align_self": null,
      "border": null,
      "bottom": null,
      "display": null,
      "flex": null,
      "flex_flow": null,
      "grid_area": null,
      "grid_auto_columns": null,
      "grid_auto_flow": null,
      "grid_auto_rows": null,
      "grid_column": null,
      "grid_gap": null,
      "grid_row": null,
      "grid_template_areas": null,
      "grid_template_columns": null,
      "grid_template_rows": null,
      "height": null,
      "justify_content": null,
      "justify_items": null,
      "left": null,
      "margin": null,
      "max_height": null,
      "max_width": null,
      "min_height": null,
      "min_width": null,
      "object_fit": null,
      "object_position": null,
      "order": null,
      "overflow": null,
      "overflow_x": null,
      "overflow_y": null,
      "padding": null,
      "right": null,
      "top": null,
      "visibility": null,
      "width": null
     }
    },
    "1f183e213d6c4dd8a51c0ff8bc2411dd": {
     "model_module": "@jupyter-widgets/base",
     "model_module_version": "1.2.0",
     "model_name": "LayoutModel",
     "state": {
      "_model_module": "@jupyter-widgets/base",
      "_model_module_version": "1.2.0",
      "_model_name": "LayoutModel",
      "_view_count": null,
      "_view_module": "@jupyter-widgets/base",
      "_view_module_version": "1.2.0",
      "_view_name": "LayoutView",
      "align_content": null,
      "align_items": null,
      "align_self": null,
      "border": null,
      "bottom": null,
      "display": null,
      "flex": null,
      "flex_flow": null,
      "grid_area": null,
      "grid_auto_columns": null,
      "grid_auto_flow": null,
      "grid_auto_rows": null,
      "grid_column": null,
      "grid_gap": null,
      "grid_row": null,
      "grid_template_areas": null,
      "grid_template_columns": null,
      "grid_template_rows": null,
      "height": null,
      "justify_content": null,
      "justify_items": null,
      "left": null,
      "margin": null,
      "max_height": null,
      "max_width": null,
      "min_height": null,
      "min_width": null,
      "object_fit": null,
      "object_position": null,
      "order": null,
      "overflow": null,
      "overflow_x": null,
      "overflow_y": null,
      "padding": null,
      "right": null,
      "top": null,
      "visibility": null,
      "width": null
     }
    },
    "2dde2ecb99764e4b945303cf2ae4f0cf": {
     "model_module": "@jupyter-widgets/controls",
     "model_module_version": "1.5.0",
     "model_name": "ProgressStyleModel",
     "state": {
      "_model_module": "@jupyter-widgets/controls",
      "_model_module_version": "1.5.0",
      "_model_name": "ProgressStyleModel",
      "_view_count": null,
      "_view_module": "@jupyter-widgets/base",
      "_view_module_version": "1.2.0",
      "_view_name": "StyleView",
      "bar_color": null,
      "description_width": ""
     }
    },
    "2e9a466f00584908878cb546a2dae9d3": {
     "model_module": "@jupyter-widgets/base",
     "model_module_version": "1.2.0",
     "model_name": "LayoutModel",
     "state": {
      "_model_module": "@jupyter-widgets/base",
      "_model_module_version": "1.2.0",
      "_model_name": "LayoutModel",
      "_view_count": null,
      "_view_module": "@jupyter-widgets/base",
      "_view_module_version": "1.2.0",
      "_view_name": "LayoutView",
      "align_content": null,
      "align_items": null,
      "align_self": null,
      "border": null,
      "bottom": null,
      "display": null,
      "flex": null,
      "flex_flow": null,
      "grid_area": null,
      "grid_auto_columns": null,
      "grid_auto_flow": null,
      "grid_auto_rows": null,
      "grid_column": null,
      "grid_gap": null,
      "grid_row": null,
      "grid_template_areas": null,
      "grid_template_columns": null,
      "grid_template_rows": null,
      "height": null,
      "justify_content": null,
      "justify_items": null,
      "left": null,
      "margin": null,
      "max_height": null,
      "max_width": null,
      "min_height": null,
      "min_width": null,
      "object_fit": null,
      "object_position": null,
      "order": null,
      "overflow": null,
      "overflow_x": null,
      "overflow_y": null,
      "padding": null,
      "right": null,
      "top": null,
      "visibility": null,
      "width": null
     }
    },
    "3301c1e714c04b7eaaca775893b57e00": {
     "model_module": "@jupyter-widgets/controls",
     "model_module_version": "1.5.0",
     "model_name": "HTMLModel",
     "state": {
      "_dom_classes": [],
      "_model_module": "@jupyter-widgets/controls",
      "_model_module_version": "1.5.0",
      "_model_name": "HTMLModel",
      "_view_count": null,
      "_view_module": "@jupyter-widgets/controls",
      "_view_module_version": "1.5.0",
      "_view_name": "HTMLView",
      "description": "",
      "description_tooltip": null,
      "layout": "IPY_MODEL_1f183e213d6c4dd8a51c0ff8bc2411dd",
      "placeholder": "​",
      "style": "IPY_MODEL_afe4bfc5be09468a8f1c51bb7aa08043",
      "value": "100%"
     }
    },
    "3553b13618034b9289a84f04142b499d": {
     "model_module": "@jupyter-widgets/controls",
     "model_module_version": "1.5.0",
     "model_name": "ProgressStyleModel",
     "state": {
      "_model_module": "@jupyter-widgets/controls",
      "_model_module_version": "1.5.0",
      "_model_name": "ProgressStyleModel",
      "_view_count": null,
      "_view_module": "@jupyter-widgets/base",
      "_view_module_version": "1.2.0",
      "_view_name": "StyleView",
      "bar_color": null,
      "description_width": ""
     }
    },
    "3ae8d99c15334643936eb330f7f34326": {
     "model_module": "@jupyter-widgets/base",
     "model_module_version": "1.2.0",
     "model_name": "LayoutModel",
     "state": {
      "_model_module": "@jupyter-widgets/base",
      "_model_module_version": "1.2.0",
      "_model_name": "LayoutModel",
      "_view_count": null,
      "_view_module": "@jupyter-widgets/base",
      "_view_module_version": "1.2.0",
      "_view_name": "LayoutView",
      "align_content": null,
      "align_items": null,
      "align_self": null,
      "border": null,
      "bottom": null,
      "display": null,
      "flex": null,
      "flex_flow": null,
      "grid_area": null,
      "grid_auto_columns": null,
      "grid_auto_flow": null,
      "grid_auto_rows": null,
      "grid_column": null,
      "grid_gap": null,
      "grid_row": null,
      "grid_template_areas": null,
      "grid_template_columns": null,
      "grid_template_rows": null,
      "height": null,
      "justify_content": null,
      "justify_items": null,
      "left": null,
      "margin": null,
      "max_height": null,
      "max_width": null,
      "min_height": null,
      "min_width": null,
      "object_fit": null,
      "object_position": null,
      "order": null,
      "overflow": null,
      "overflow_x": null,
      "overflow_y": null,
      "padding": null,
      "right": null,
      "top": null,
      "visibility": null,
      "width": null
     }
    },
    "417874c0bbdc48309e0cc5bb9ea0d0cc": {
     "model_module": "@jupyter-widgets/controls",
     "model_module_version": "1.5.0",
     "model_name": "HTMLModel",
     "state": {
      "_dom_classes": [],
      "_model_module": "@jupyter-widgets/controls",
      "_model_module_version": "1.5.0",
      "_model_name": "HTMLModel",
      "_view_count": null,
      "_view_module": "@jupyter-widgets/controls",
      "_view_module_version": "1.5.0",
      "_view_name": "HTMLView",
      "description": "",
      "description_tooltip": null,
      "layout": "IPY_MODEL_3ae8d99c15334643936eb330f7f34326",
      "placeholder": "​",
      "style": "IPY_MODEL_d370b6675b034a3e99c057516c054362",
      "value": " 300/300 [06:28&lt;00:00,  1.09s/it]"
     }
    },
    "5c24047fc75746ae802165f6a64d4437": {
     "model_module": "@jupyter-widgets/controls",
     "model_module_version": "1.5.0",
     "model_name": "FloatProgressModel",
     "state": {
      "_dom_classes": [],
      "_model_module": "@jupyter-widgets/controls",
      "_model_module_version": "1.5.0",
      "_model_name": "FloatProgressModel",
      "_view_count": null,
      "_view_module": "@jupyter-widgets/controls",
      "_view_module_version": "1.5.0",
      "_view_name": "ProgressView",
      "bar_style": "success",
      "description": "",
      "description_tooltip": null,
      "layout": "IPY_MODEL_8ff73e96935847ea95af9239aebdb470",
      "max": 300,
      "min": 0,
      "orientation": "horizontal",
      "style": "IPY_MODEL_3553b13618034b9289a84f04142b499d",
      "value": 300
     }
    },
    "6eb6c6bcadf94f699b8f3d1f8d35a4fc": {
     "model_module": "@jupyter-widgets/base",
     "model_module_version": "1.2.0",
     "model_name": "LayoutModel",
     "state": {
      "_model_module": "@jupyter-widgets/base",
      "_model_module_version": "1.2.0",
      "_model_name": "LayoutModel",
      "_view_count": null,
      "_view_module": "@jupyter-widgets/base",
      "_view_module_version": "1.2.0",
      "_view_name": "LayoutView",
      "align_content": null,
      "align_items": null,
      "align_self": null,
      "border": null,
      "bottom": null,
      "display": null,
      "flex": null,
      "flex_flow": null,
      "grid_area": null,
      "grid_auto_columns": null,
      "grid_auto_flow": null,
      "grid_auto_rows": null,
      "grid_column": null,
      "grid_gap": null,
      "grid_row": null,
      "grid_template_areas": null,
      "grid_template_columns": null,
      "grid_template_rows": null,
      "height": null,
      "justify_content": null,
      "justify_items": null,
      "left": null,
      "margin": null,
      "max_height": null,
      "max_width": null,
      "min_height": null,
      "min_width": null,
      "object_fit": null,
      "object_position": null,
      "order": null,
      "overflow": null,
      "overflow_x": null,
      "overflow_y": null,
      "padding": null,
      "right": null,
      "top": null,
      "visibility": null,
      "width": null
     }
    },
    "7456bc32fb2146a68dbf99952b89dec3": {
     "model_module": "@jupyter-widgets/controls",
     "model_module_version": "1.5.0",
     "model_name": "HBoxModel",
     "state": {
      "_dom_classes": [],
      "_model_module": "@jupyter-widgets/controls",
      "_model_module_version": "1.5.0",
      "_model_name": "HBoxModel",
      "_view_count": null,
      "_view_module": "@jupyter-widgets/controls",
      "_view_module_version": "1.5.0",
      "_view_name": "HBoxView",
      "box_style": "",
      "children": [
       "IPY_MODEL_3301c1e714c04b7eaaca775893b57e00",
       "IPY_MODEL_5c24047fc75746ae802165f6a64d4437",
       "IPY_MODEL_417874c0bbdc48309e0cc5bb9ea0d0cc"
      ],
      "layout": "IPY_MODEL_aa21fbb761134c398367b872efbf6967"
     }
    },
    "7a0be5b41b8b4262b642445cddb5ab8c": {
     "model_module": "@jupyter-widgets/controls",
     "model_module_version": "1.5.0",
     "model_name": "HTMLModel",
     "state": {
      "_dom_classes": [],
      "_model_module": "@jupyter-widgets/controls",
      "_model_module_version": "1.5.0",
      "_model_name": "HTMLModel",
      "_view_count": null,
      "_view_module": "@jupyter-widgets/controls",
      "_view_module_version": "1.5.0",
      "_view_name": "HTMLView",
      "description": "",
      "description_tooltip": null,
      "layout": "IPY_MODEL_0ca44722b97843d8b103ff1f55110699",
      "placeholder": "​",
      "style": "IPY_MODEL_e7a1758de03e458299391c59b5d9b189",
      "value": "100%"
     }
    },
    "88f29af52ac94b1a940a90cfdba679a4": {
     "model_module": "@jupyter-widgets/controls",
     "model_module_version": "1.5.0",
     "model_name": "FloatProgressModel",
     "state": {
      "_dom_classes": [],
      "_model_module": "@jupyter-widgets/controls",
      "_model_module_version": "1.5.0",
      "_model_name": "FloatProgressModel",
      "_view_count": null,
      "_view_module": "@jupyter-widgets/controls",
      "_view_module_version": "1.5.0",
      "_view_name": "ProgressView",
      "bar_style": "success",
      "description": "",
      "description_tooltip": null,
      "layout": "IPY_MODEL_1deb31df028942d9b2fac4e03461d71d",
      "max": 300,
      "min": 0,
      "orientation": "horizontal",
      "style": "IPY_MODEL_2dde2ecb99764e4b945303cf2ae4f0cf",
      "value": 300
     }
    },
    "8cf58a55de4f441c8f6d6795dc7477f6": {
     "model_module": "@jupyter-widgets/controls",
     "model_module_version": "1.5.0",
     "model_name": "HTMLModel",
     "state": {
      "_dom_classes": [],
      "_model_module": "@jupyter-widgets/controls",
      "_model_module_version": "1.5.0",
      "_model_name": "HTMLModel",
      "_view_count": null,
      "_view_module": "@jupyter-widgets/controls",
      "_view_module_version": "1.5.0",
      "_view_name": "HTMLView",
      "description": "",
      "description_tooltip": null,
      "layout": "IPY_MODEL_6eb6c6bcadf94f699b8f3d1f8d35a4fc",
      "placeholder": "​",
      "style": "IPY_MODEL_061d10ce1161413ebe83b9189a1bd87d",
      "value": " 300/300 [04:05&lt;00:00,  1.24it/s]"
     }
    },
    "8ff73e96935847ea95af9239aebdb470": {
     "model_module": "@jupyter-widgets/base",
     "model_module_version": "1.2.0",
     "model_name": "LayoutModel",
     "state": {
      "_model_module": "@jupyter-widgets/base",
      "_model_module_version": "1.2.0",
      "_model_name": "LayoutModel",
      "_view_count": null,
      "_view_module": "@jupyter-widgets/base",
      "_view_module_version": "1.2.0",
      "_view_name": "LayoutView",
      "align_content": null,
      "align_items": null,
      "align_self": null,
      "border": null,
      "bottom": null,
      "display": null,
      "flex": null,
      "flex_flow": null,
      "grid_area": null,
      "grid_auto_columns": null,
      "grid_auto_flow": null,
      "grid_auto_rows": null,
      "grid_column": null,
      "grid_gap": null,
      "grid_row": null,
      "grid_template_areas": null,
      "grid_template_columns": null,
      "grid_template_rows": null,
      "height": null,
      "justify_content": null,
      "justify_items": null,
      "left": null,
      "margin": null,
      "max_height": null,
      "max_width": null,
      "min_height": null,
      "min_width": null,
      "object_fit": null,
      "object_position": null,
      "order": null,
      "overflow": null,
      "overflow_x": null,
      "overflow_y": null,
      "padding": null,
      "right": null,
      "top": null,
      "visibility": null,
      "width": null
     }
    },
    "aa21fbb761134c398367b872efbf6967": {
     "model_module": "@jupyter-widgets/base",
     "model_module_version": "1.2.0",
     "model_name": "LayoutModel",
     "state": {
      "_model_module": "@jupyter-widgets/base",
      "_model_module_version": "1.2.0",
      "_model_name": "LayoutModel",
      "_view_count": null,
      "_view_module": "@jupyter-widgets/base",
      "_view_module_version": "1.2.0",
      "_view_name": "LayoutView",
      "align_content": null,
      "align_items": null,
      "align_self": null,
      "border": null,
      "bottom": null,
      "display": null,
      "flex": null,
      "flex_flow": null,
      "grid_area": null,
      "grid_auto_columns": null,
      "grid_auto_flow": null,
      "grid_auto_rows": null,
      "grid_column": null,
      "grid_gap": null,
      "grid_row": null,
      "grid_template_areas": null,
      "grid_template_columns": null,
      "grid_template_rows": null,
      "height": null,
      "justify_content": null,
      "justify_items": null,
      "left": null,
      "margin": null,
      "max_height": null,
      "max_width": null,
      "min_height": null,
      "min_width": null,
      "object_fit": null,
      "object_position": null,
      "order": null,
      "overflow": null,
      "overflow_x": null,
      "overflow_y": null,
      "padding": null,
      "right": null,
      "top": null,
      "visibility": null,
      "width": null
     }
    },
    "afe4bfc5be09468a8f1c51bb7aa08043": {
     "model_module": "@jupyter-widgets/controls",
     "model_module_version": "1.5.0",
     "model_name": "DescriptionStyleModel",
     "state": {
      "_model_module": "@jupyter-widgets/controls",
      "_model_module_version": "1.5.0",
      "_model_name": "DescriptionStyleModel",
      "_view_count": null,
      "_view_module": "@jupyter-widgets/base",
      "_view_module_version": "1.2.0",
      "_view_name": "StyleView",
      "description_width": ""
     }
    },
    "d370b6675b034a3e99c057516c054362": {
     "model_module": "@jupyter-widgets/controls",
     "model_module_version": "1.5.0",
     "model_name": "DescriptionStyleModel",
     "state": {
      "_model_module": "@jupyter-widgets/controls",
      "_model_module_version": "1.5.0",
      "_model_name": "DescriptionStyleModel",
      "_view_count": null,
      "_view_module": "@jupyter-widgets/base",
      "_view_module_version": "1.2.0",
      "_view_name": "StyleView",
      "description_width": ""
     }
    },
    "dc755355c81a453aa3dd9c2a72f9ea64": {
     "model_module": "@jupyter-widgets/controls",
     "model_module_version": "1.5.0",
     "model_name": "HBoxModel",
     "state": {
      "_dom_classes": [],
      "_model_module": "@jupyter-widgets/controls",
      "_model_module_version": "1.5.0",
      "_model_name": "HBoxModel",
      "_view_count": null,
      "_view_module": "@jupyter-widgets/controls",
      "_view_module_version": "1.5.0",
      "_view_name": "HBoxView",
      "box_style": "",
      "children": [
       "IPY_MODEL_7a0be5b41b8b4262b642445cddb5ab8c",
       "IPY_MODEL_88f29af52ac94b1a940a90cfdba679a4",
       "IPY_MODEL_8cf58a55de4f441c8f6d6795dc7477f6"
      ],
      "layout": "IPY_MODEL_2e9a466f00584908878cb546a2dae9d3"
     }
    },
    "e7a1758de03e458299391c59b5d9b189": {
     "model_module": "@jupyter-widgets/controls",
     "model_module_version": "1.5.0",
     "model_name": "DescriptionStyleModel",
     "state": {
      "_model_module": "@jupyter-widgets/controls",
      "_model_module_version": "1.5.0",
      "_model_name": "DescriptionStyleModel",
      "_view_count": null,
      "_view_module": "@jupyter-widgets/base",
      "_view_module_version": "1.2.0",
      "_view_name": "StyleView",
      "description_width": ""
     }
    }
   }
  }
 },
 "nbformat": 4,
 "nbformat_minor": 0
}
